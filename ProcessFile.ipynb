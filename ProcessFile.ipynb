{
 "cells": [
  {
   "cell_type": "code",
   "execution_count": 160,
   "metadata": {},
   "outputs": [],
   "source": [
    "import os\n",
    "import matplotlib.pyplot as plt\n",
    "import pandas as pd\n",
    "import numpy as np\n",
    "import cv2"
   ]
  },
  {
   "cell_type": "code",
   "execution_count": 168,
   "metadata": {},
   "outputs": [
    {
     "data": {
      "text/html": [
       "<div>\n",
       "<style scoped>\n",
       "    .dataframe tbody tr th:only-of-type {\n",
       "        vertical-align: middle;\n",
       "    }\n",
       "\n",
       "    .dataframe tbody tr th {\n",
       "        vertical-align: top;\n",
       "    }\n",
       "\n",
       "    .dataframe thead th {\n",
       "        text-align: right;\n",
       "    }\n",
       "</style>\n",
       "<table border=\"1\" class=\"dataframe\">\n",
       "  <thead>\n",
       "    <tr style=\"text-align: right;\">\n",
       "      <th></th>\n",
       "      <th>Filename</th>\n",
       "      <th>Field2</th>\n",
       "      <th>Field3</th>\n",
       "      <th>MDT</th>\n",
       "      <th>SBD</th>\n",
       "      <th>check</th>\n",
       "      <th>checkSBD</th>\n",
       "      <th>checkMDT</th>\n",
       "      <th>fixSBD</th>\n",
       "      <th>fixMDT</th>\n",
       "      <th>checkX</th>\n",
       "      <th>XSBD</th>\n",
       "      <th>XMDT</th>\n",
       "    </tr>\n",
       "  </thead>\n",
       "  <tbody>\n",
       "    <tr>\n",
       "      <th>0</th>\n",
       "      <td>c2_quanghung.0001.jpg</td>\n",
       "      <td>001013</td>\n",
       "      <td>004</td>\n",
       "      <td>1</td>\n",
       "      <td>1</td>\n",
       "      <td>1</td>\n",
       "      <td>1013</td>\n",
       "      <td>004</td>\n",
       "      <td>NaN</td>\n",
       "      <td>NaN</td>\n",
       "      <td>NaN</td>\n",
       "      <td>NaN</td>\n",
       "      <td>NaN</td>\n",
       "    </tr>\n",
       "    <tr>\n",
       "      <th>1</th>\n",
       "      <td>c2_quanghung.0002.jpg</td>\n",
       "      <td>001013</td>\n",
       "      <td>004</td>\n",
       "      <td>1</td>\n",
       "      <td>1</td>\n",
       "      <td>1</td>\n",
       "      <td>1013</td>\n",
       "      <td>004</td>\n",
       "      <td>NaN</td>\n",
       "      <td>NaN</td>\n",
       "      <td>NaN</td>\n",
       "      <td>NaN</td>\n",
       "      <td>NaN</td>\n",
       "    </tr>\n",
       "    <tr>\n",
       "      <th>2</th>\n",
       "      <td>c2_quanghung.0003.jpg</td>\n",
       "      <td>001013</td>\n",
       "      <td>004</td>\n",
       "      <td>1</td>\n",
       "      <td>1</td>\n",
       "      <td>1</td>\n",
       "      <td>1013</td>\n",
       "      <td>004</td>\n",
       "      <td>NaN</td>\n",
       "      <td>NaN</td>\n",
       "      <td>NaN</td>\n",
       "      <td>NaN</td>\n",
       "      <td>NaN</td>\n",
       "    </tr>\n",
       "    <tr>\n",
       "      <th>3</th>\n",
       "      <td>c2_quanghung.0004.jpg</td>\n",
       "      <td>001013</td>\n",
       "      <td>004</td>\n",
       "      <td>1</td>\n",
       "      <td>1</td>\n",
       "      <td>1</td>\n",
       "      <td>1013</td>\n",
       "      <td>004</td>\n",
       "      <td>NaN</td>\n",
       "      <td>NaN</td>\n",
       "      <td>NaN</td>\n",
       "      <td>NaN</td>\n",
       "      <td>NaN</td>\n",
       "    </tr>\n",
       "    <tr>\n",
       "      <th>4</th>\n",
       "      <td>c2_quanghung.0005.jpg</td>\n",
       "      <td>012345</td>\n",
       "      <td>001</td>\n",
       "      <td>1</td>\n",
       "      <td>1</td>\n",
       "      <td>1</td>\n",
       "      <td>12345</td>\n",
       "      <td>001</td>\n",
       "      <td>NaN</td>\n",
       "      <td>NaN</td>\n",
       "      <td>NaN</td>\n",
       "      <td>NaN</td>\n",
       "      <td>NaN</td>\n",
       "    </tr>\n",
       "  </tbody>\n",
       "</table>\n",
       "</div>"
      ],
      "text/plain": [
       "                Filename  Field2 Field3  MDT  SBD  check  checkSBD checkMDT  \\\n",
       "0  c2_quanghung.0001.jpg  001013    004    1    1      1      1013      004   \n",
       "1  c2_quanghung.0002.jpg  001013    004    1    1      1      1013      004   \n",
       "2  c2_quanghung.0003.jpg  001013    004    1    1      1      1013      004   \n",
       "3  c2_quanghung.0004.jpg  001013    004    1    1      1      1013      004   \n",
       "4  c2_quanghung.0005.jpg  012345    001    1    1      1     12345      001   \n",
       "\n",
       "   fixSBD fixMDT checkX  XSBD  XMDT  \n",
       "0     NaN    NaN    NaN   NaN   NaN  \n",
       "1     NaN    NaN    NaN   NaN   NaN  \n",
       "2     NaN    NaN    NaN   NaN   NaN  \n",
       "3     NaN    NaN    NaN   NaN   NaN  \n",
       "4     NaN    NaN    NaN   NaN   NaN  "
      ]
     },
     "execution_count": 168,
     "metadata": {},
     "output_type": "execute_result"
    }
   ],
   "source": [
    "data = pd.read_excel('processed_files.xlsx')\n",
    "data.head()"
   ]
  },
  {
   "cell_type": "code",
   "execution_count": 172,
   "metadata": {},
   "outputs": [],
   "source": [
    "data['checkSBD'] = data['checkSBD'].apply(lambda x: str(x).zfill(6))"
   ]
  },
  {
   "cell_type": "code",
   "execution_count": 174,
   "metadata": {},
   "outputs": [],
   "source": [
    "data.to_excel('processed_files.xlsx', index=False)"
   ]
  },
  {
   "cell_type": "code",
   "execution_count": 162,
   "metadata": {},
   "outputs": [
    {
     "name": "stdout",
     "output_type": "stream",
     "text": [
      "Các file có checkSBD không phải là số:\n",
      "Series([], Name: Filename, dtype: object)\n"
     ]
    }
   ],
   "source": [
    "import pandas as pd\n",
    "\n",
    "# Giả sử data là DataFrame của bạn\n",
    "checkSbd = data['checkSBD']\n",
    "filename = data['Filename']\n",
    "\n",
    "# Chuyển đổi checkSbd thành số, các giá trị không phải số sẽ được chuyển thành NaN\n",
    "data['checkSBD'] = pd.to_numeric(checkSbd, errors='coerce')\n",
    "\n",
    "# Loại bỏ các hàng có giá trị NaN trong checkSBD (tức là các giá trị không phải số)\n",
    "valid_rows = data.dropna(subset=['checkSBD'])\n",
    "\n",
    "# In ra các filename tương ứng với các hàng bị loại bỏ\n",
    "invalid_rows = data[data['checkSBD'].isna()]\n",
    "print(\"Các file có checkSBD không phải là số:\")\n",
    "print(invalid_rows['Filename'])\n"
   ]
  },
  {
   "cell_type": "code",
   "execution_count": 163,
   "metadata": {},
   "outputs": [
    {
     "name": "stdout",
     "output_type": "stream",
     "text": [
      "Các file có checkSBD không phải là số:\n",
      "Series([], Name: Filename, dtype: object)\n",
      "Dữ liệu sau khi xóa các hàng có checkSBD không hợp lệ:\n",
      "                     Filename  Field2 Field3  MDT  SBD  check  checkSBD  \\\n",
      "0       c2_quanghung.0001.jpg  001013    004    1    1      1      1013   \n",
      "1       c2_quanghung.0002.jpg  001013    004    1    1      1      1013   \n",
      "2       c2_quanghung.0003.jpg  001013    004    1    1      1      1013   \n",
      "3       c2_quanghung.0004.jpg  001013    004    1    1      1      1013   \n",
      "4       c2_quanghung.0005.jpg  012345    001    1    1      1     12345   \n",
      "...                       ...     ...    ...  ...  ...    ...       ...   \n",
      "2668  victory_school.0476.jpg  860046    _03    1    0      0    860046   \n",
      "2669  victory_school.0477.jpg  860046    103    1    1      1    860046   \n",
      "2670       vietsicbq.0001.jpg  340005    101    1    1      1    340005   \n",
      "2671       vietsicbq.0002.jpg  340002    101    1    1      1    340002   \n",
      "2672       vietsicbq.0003.jpg  340034    102    1    1      1    340034   \n",
      "\n",
      "     checkMDT  fixSBD fixMDT checkX  XSBD  XMDT  \n",
      "0         004     NaN    NaN    NaN   NaN   NaN  \n",
      "1         004     NaN    NaN    NaN   NaN   NaN  \n",
      "2         004     NaN    NaN    NaN   NaN   NaN  \n",
      "3         004     NaN    NaN    NaN   NaN   NaN  \n",
      "4         001     NaN    NaN    NaN   NaN   NaN  \n",
      "...       ...     ...    ...    ...   ...   ...  \n",
      "2668      103     NaN    103    NaN   NaN   NaN  \n",
      "2669      103     NaN    NaN    NaN   NaN   NaN  \n",
      "2670      101     NaN    NaN    NaN   NaN   NaN  \n",
      "2671      101     NaN    NaN    NaN   NaN   NaN  \n",
      "2672      102     NaN    NaN    NaN   NaN   NaN  \n",
      "\n",
      "[2673 rows x 13 columns]\n"
     ]
    }
   ],
   "source": [
    "import pandas as pd\n",
    "import os\n",
    "\n",
    "# Giả sử data là DataFrame của bạn\n",
    "checkSbd = data['checkSBD']\n",
    "filename = data['Filename']\n",
    "\n",
    "# Chuyển đổi checkSbd thành số, các giá trị không phải số sẽ được chuyển thành NaN\n",
    "data['checkSBD'] = pd.to_numeric(checkSbd, errors='coerce')\n",
    "\n",
    "# Loại bỏ các hàng có giá trị NaN trong checkSBD (tức là các giá trị không phải số)\n",
    "valid_rows = data.dropna(subset=['checkSBD'])\n",
    "\n",
    "# In ra các filename tương ứng với các hàng bị loại bỏ\n",
    "invalid_rows = data[data['checkSBD'].isna()]\n",
    "print(\"Các file có checkSBD không phải là số:\")\n",
    "print(invalid_rows['Filename'])\n",
    "\n",
    "# Xóa các file trong thư mục tương ứng với filename\n",
    "folder_path = \"/mnt/d/examgrading/BuilModelDetecSBD_DT/Dataset/arena/sbd\"  # Đường dẫn thư mục chứa file\n",
    "\n",
    "for file in invalid_rows['Filename']:\n",
    "    file_path = os.path.join(folder_path, file)  # Tạo đường dẫn đầy đủ đến file\n",
    "    if os.path.exists(file_path):\n",
    "        os.remove(file_path)  # Xóa file\n",
    "        print(f\"Đã xóa file: {file_path}\")\n",
    "    else:\n",
    "        print(f\"Không tìm thấy file: {file_path}\")\n",
    "\n",
    "# Xóa các hàng tương ứng với filename bị loại bỏ trong DataFrame\n",
    "data = data[~data['Filename'].isin(invalid_rows['Filename'])]\n",
    "print(\"Dữ liệu sau khi xóa các hàng có checkSBD không hợp lệ:\")\n",
    "print(data)\n"
   ]
  },
  {
   "cell_type": "code",
   "execution_count": 164,
   "metadata": {},
   "outputs": [
    {
     "name": "stdout",
     "output_type": "stream",
     "text": [
      "0         c2_quanghung.0001.jpg\n",
      "1         c2_quanghung.0002.jpg\n",
      "2         c2_quanghung.0003.jpg\n",
      "3         c2_quanghung.0004.jpg\n",
      "4         c2_quanghung.0005.jpg\n",
      "                 ...           \n",
      "2668    victory_school.0476.jpg\n",
      "2669    victory_school.0477.jpg\n",
      "2670         vietsicbq.0001.jpg\n",
      "2671         vietsicbq.0002.jpg\n",
      "2672         vietsicbq.0003.jpg\n",
      "Name: Filename, Length: 2673, dtype: object\n"
     ]
    }
   ],
   "source": [
    "print(data['Filename'])"
   ]
  },
  {
   "cell_type": "code",
   "execution_count": 165,
   "metadata": {},
   "outputs": [
    {
     "name": "stdout",
     "output_type": "stream",
     "text": [
      "                     Filename  Field2 Field3  MDT  SBD  check  checkSBD  \\\n",
      "0       c2_quanghung.0001.jpg  001013    004    1    1      1      1013   \n",
      "1       c2_quanghung.0002.jpg  001013    004    1    1      1      1013   \n",
      "2       c2_quanghung.0003.jpg  001013    004    1    1      1      1013   \n",
      "3       c2_quanghung.0004.jpg  001013    004    1    1      1      1013   \n",
      "4       c2_quanghung.0005.jpg  012345    001    1    1      1     12345   \n",
      "...                       ...     ...    ...  ...  ...    ...       ...   \n",
      "2668  victory_school.0476.jpg  860046    _03    1    0      0    860046   \n",
      "2669  victory_school.0477.jpg  860046    103    1    1      1    860046   \n",
      "2670       vietsicbq.0001.jpg  340005    101    1    1      1    340005   \n",
      "2671       vietsicbq.0002.jpg  340002    101    1    1      1    340002   \n",
      "2672       vietsicbq.0003.jpg  340034    102    1    1      1    340034   \n",
      "\n",
      "     checkMDT  fixSBD fixMDT checkX  XSBD  XMDT  \n",
      "0         004     NaN    NaN    NaN   NaN   NaN  \n",
      "1         004     NaN    NaN    NaN   NaN   NaN  \n",
      "2         004     NaN    NaN    NaN   NaN   NaN  \n",
      "3         004     NaN    NaN    NaN   NaN   NaN  \n",
      "4         001     NaN    NaN    NaN   NaN   NaN  \n",
      "...       ...     ...    ...    ...   ...   ...  \n",
      "2668      103     NaN    103    NaN   NaN   NaN  \n",
      "2669      103     NaN    NaN    NaN   NaN   NaN  \n",
      "2670      101     NaN    NaN    NaN   NaN   NaN  \n",
      "2671      101     NaN    NaN    NaN   NaN   NaN  \n",
      "2672      102     NaN    NaN    NaN   NaN   NaN  \n",
      "\n",
      "[2673 rows x 13 columns]\n"
     ]
    }
   ],
   "source": [
    "import os\n",
    "\n",
    "folder_path = '/mnt/d/examgrading/BuilModelDetecSBD_DT/Dataset/arena/sbd'  # Đường dẫn tới thư mục của bạn\n",
    "\n",
    "# Kiểm tra tồn tại của file và xóa các hàng không tồn tại\n",
    "valid_files = []\n",
    "\n",
    "for filename in data['Filename']:\n",
    "    file_path = os.path.join(folder_path, \"SBD.\" + filename)\n",
    "    if os.path.exists(file_path):\n",
    "        valid_files.append(True)\n",
    "    else:\n",
    "        valid_files.append(False)\n",
    "        print(f\"File {filename} không tồn tại trong thư mục.\")\n",
    "\n",
    "# Lọc ra các hàng có file tồn tại\n",
    "data = data[valid_files].reset_index(drop=True)\n",
    "\n",
    "# In ra DataFrame sau khi đã xóa các hàng không tồn tại\n",
    "print(data)\n"
   ]
  },
  {
   "cell_type": "code",
   "execution_count": 166,
   "metadata": {},
   "outputs": [],
   "source": [
    "data.to_excel('processed_files.xlsx', index=False)"
   ]
  },
  {
   "cell_type": "code",
   "execution_count": 167,
   "metadata": {},
   "outputs": [
    {
     "name": "stdout",
     "output_type": "stream",
     "text": [
      "Số lượng file còn lại trong thư mục: 2673\n"
     ]
    }
   ],
   "source": [
    "import os\n",
    "\n",
    "# Đường dẫn đến thư mục chứa file\n",
    "folder_path = \"/mnt/d/examgrading/BuilModelDetecSBD_DT/Dataset/arena/sbd\"  # Thay bằng đường dẫn thực tế của bạn\n",
    "\n",
    "# Đếm số lượng file còn lại trong thư mục\n",
    "remaining_files = [f for f in os.listdir(folder_path) if os.path.isfile(os.path.join(folder_path, f))]\n",
    "print(f\"Số lượng file còn lại trong thư mục: {len(remaining_files)}\")\n"
   ]
  }
 ],
 "metadata": {
  "kernelspec": {
   "display_name": "Python 3",
   "language": "python",
   "name": "python3"
  },
  "language_info": {
   "codemirror_mode": {
    "name": "ipython",
    "version": 3
   },
   "file_extension": ".py",
   "mimetype": "text/x-python",
   "name": "python",
   "nbconvert_exporter": "python",
   "pygments_lexer": "ipython3",
   "version": "3.10.12"
  }
 },
 "nbformat": 4,
 "nbformat_minor": 2
}
